{
 "cells": [
  {
   "cell_type": "markdown",
   "id": "15a011f2",
   "metadata": {},
   "source": [
    "# Audioalchemy\n",
    "\n",
    "    Musical transitions in a DJ set are optimal when the song transitioned from and the song to have technical similarities. Our goal in this project is to use a heuristic search algorithm called Beam Search and personal rankings of transitions to build an optimal playlist with an optimal set of transitions. We will be connecting to the Spotify API to get pre-built playlists and reorganizing them using our own Beam Search algorithm with customized transition score calculations."
   ]
  },
  {
   "cell_type": "markdown",
   "id": "eec92747",
   "metadata": {},
   "source": [
    "## Collecting song information"
   ]
  },
  {
   "cell_type": "code",
   "execution_count": null,
   "id": "74045bc2",
   "metadata": {},
   "outputs": [],
   "source": [
    "!pip install spotipy"
   ]
  },
  {
   "cell_type": "code",
   "execution_count": null,
   "id": "6becccb1",
   "metadata": {},
   "outputs": [],
   "source": [
    "import spotipy\n",
    "# from spotipy.oauth2 import SpotifyClientCredentials\n",
    "from spotipy.oauth2 import SpotifyOAuth"
   ]
  },
  {
   "cell_type": "code",
   "execution_count": null,
   "id": "4c592ee9",
   "metadata": {},
   "outputs": [],
   "source": [
    "cid = \"3519692942004325a2c7160c90717ca5\"\n",
    "secret = \"9243be1df96e48bb829c4b07254bd82c\"\n",
    "redirect_uri = 'https://github.com/manav-s/audioalchemy'\n",
    "scope = 'playlist-modify-public playlist-modify-private'"
   ]
  },
  {
   "cell_type": "code",
   "execution_count": null,
   "id": "de115a92-bb28-403c-a7ee-f7496ed458f3",
   "metadata": {},
   "outputs": [],
   "source": [
    "import os\n",
    "cache_path = \".cache\"\n",
    "if os.path.exists(cache_path):\n",
    "    os.remove(cache_path)"
   ]
  },
  {
   "cell_type": "code",
   "execution_count": 50,
   "id": "cc8abfc4",
   "metadata": {},
   "outputs": [],
   "source": [
    "# client_credentials_manager = SpotifyClientCredentials(client_id=cid, client_secret=secret)\n",
    "# sp = spotipy.Spotify(client_credentials_manager = client_credentials_manager)\n",
    "\n",
    "auth_manager = SpotifyOAuth(client_id=cid, client_secret=secret, redirect_uri=redirect_uri, scope=scope)\n",
    "sp = spotipy.Spotify(auth_manager=auth_manager)"
   ]
  },
  {
   "cell_type": "code",
   "execution_count": null,
   "id": "ab16c13e",
   "metadata": {},
   "outputs": [],
   "source": [
    "playlist_link = \"https://open.spotify.com/playlist/0whpp60V3f8y5G1e6HV59N?si=28d21cbd6b7c4137\"\n",
    "uri = playlist_link.split(\"/\")[-1].split(\"?\")[0]\n",
    "track_uris = [x[\"track\"][\"uri\"] for x in sp.playlist_tracks(uri)[\"items\"]]"
   ]
  },
  {
   "cell_type": "code",
   "execution_count": null,
   "id": "0981517b",
   "metadata": {},
   "outputs": [],
   "source": [
    "print(sp.audio_features(track_uris)[0])"
   ]
  },
  {
   "cell_type": "code",
   "execution_count": null,
   "id": "0add18ae",
   "metadata": {},
   "outputs": [],
   "source": [
    "import pandas as pd\n",
    "\n",
    "# Initialize empty lists for columns\n",
    "song_names = []\n",
    "danceability = []\n",
    "energy = []\n",
    "key = []\n",
    "loudness = []\n",
    "mode = []\n",
    "speechiness = []\n",
    "acousticness = []\n",
    "instrumentalness = []\n",
    "liveness = []\n",
    "valence = []\n",
    "tempo = []\n",
    "\n",
    "# Loop through the tracks and append the data to the respective lists\n",
    "for track in sp.playlist_tracks(playlist_link)[\"items\"]:\n",
    "    track_name = track[\"track\"][\"name\"]\n",
    "    song_names.append(track_name)\n",
    "    \n",
    "    audio_features = sp.audio_features(track[\"track\"][\"uri\"])[0]\n",
    "    danceability.append(audio_features[\"danceability\"])\n",
    "    energy.append(audio_features[\"energy\"])\n",
    "    key.append(audio_features[\"key\"])\n",
    "    loudness.append(audio_features[\"loudness\"])\n",
    "    mode.append(audio_features[\"mode\"])\n",
    "    speechiness.append(audio_features[\"speechiness\"])\n",
    "    acousticness.append(audio_features[\"acousticness\"])\n",
    "    instrumentalness.append(audio_features[\"instrumentalness\"])\n",
    "    liveness.append(audio_features[\"liveness\"])\n",
    "    valence.append(audio_features[\"valence\"])\n",
    "    tempo.append(audio_features[\"tempo\"])\n",
    "\n",
    "# Create a DataFrame\n",
    "data = {\n",
    "    \"Song Name\": song_names,\n",
    "    \"Danceability\": danceability,\n",
    "    \"Energy\": energy,\n",
    "    \"Key\": key,\n",
    "    \"Loudness\": loudness,\n",
    "    \"Mode\": mode,\n",
    "    \"Speechiness\": speechiness,\n",
    "    \"Acousticness\": acousticness,\n",
    "    \"Instrumentalness\": instrumentalness,\n",
    "    \"Liveness\": liveness,\n",
    "    \"Valence\": valence,\n",
    "    \"Tempo\": tempo\n",
    "}\n",
    "\n",
    "df = pd.DataFrame(data)\n",
    "df"
   ]
  },
  {
   "cell_type": "markdown",
   "id": "699df119",
   "metadata": {},
   "source": [
    "# Score\n",
    "\n",
    "We need a weighting system that identifies the importance of each feature."
   ]
  },
  {
   "cell_type": "code",
   "execution_count": null,
   "id": "78bfe1e1",
   "metadata": {},
   "outputs": [],
   "source": [
    "def get_relative_key(key, mode):\n",
    "    if mode == 1:  # Major key\n",
    "        return (key + 9) % 12  # Relative minor key\n",
    "    else:  # Minor key\n",
    "        return (key + 3) % 12  # Relative major key\n",
    "\n",
    "def key_compatibility(key1, mode1, key2, mode2):\n",
    "    if key1 == key2:\n",
    "        return True\n",
    "    if mode1 != mode2 and (key1 == get_relative_key(key2, mode2) or key2 == get_relative_key(key1, mode1)):\n",
    "        return True\n",
    "    return False\n",
    "\n",
    "def genre_similarity(genres1, genres2):\n",
    "    if not genres1 or not genres2:\n",
    "        return 0\n",
    "    shared_genres = len(set(genres1).intersection(genres2))\n",
    "    # print(\"shared_genres: \", shared_genres)\n",
    "    # print(\"shared_genres / max(len(genres1), len(genres2)): \", shared_genres / max(len(genres1), len(genres2)))\n",
    "    \n",
    "    # max of 5 shared genres\n",
    "    return min(shared_genres, 5)\n",
    "\n",
    "# The closer the score to 0, the better the transition \n",
    "def evaluate_transition(song1, song2):\n",
    "    score = 0\n",
    "    #total genres for a given song\n",
    "    max_genres = 10\n",
    "    \n",
    "    # Weights for different attributes\n",
    "    weights = {\n",
    "        'danceability': 7,\n",
    "        'energy': 5,\n",
    "        'loudness': 1,\n",
    "        'tempo': 100,\n",
    "        'valence': 5,\n",
    "        'genre': 4 \n",
    "    }\n",
    "\n",
    "    # Check key compatibility\n",
    "    if not key_compatibility(song1['key'], song1['mode'], song2['key'], song2['mode']):\n",
    "        score += 6  # Return a large score if keys are not compatible\n",
    "\n",
    "    # Calculate the differences in attributes\n",
    "    diff = {}\n",
    "    for attribute in weights:\n",
    "        if attribute == 'genre':\n",
    "            # if they have 5 in common, it is going to add 0\n",
    "            diff[attribute] = 5 - genre_similarity(song1[attribute], song2[attribute])\n",
    "        else:\n",
    "            diff[attribute] = abs(song1[attribute] - song2[attribute])\n",
    "\n",
    "    # Normalize loudness differences\n",
    "    diff['loudness'] /= 60  # Assume max difference is 60 dB\n",
    "\n",
    "    # Calculate tempo difference considering double/half time mixing\n",
    "    tempo_diff = min(\n",
    "        abs(song1['tempo'] - song2['tempo']),\n",
    "        abs(song1['tempo'] * 2 - song2['tempo']),\n",
    "        abs(song1['tempo'] / 2 - song2['tempo'])\n",
    "    )\n",
    "    diff['tempo'] = tempo_diff / 200  # Normalize tempo difference\n",
    "\n",
    "    # Calculate the transition score\n",
    "    for attribute in weights:\n",
    "        # print(\"attribute: \", attribute, \"   score: \", weights[attribute] * diff[attribute])\n",
    "        score += weights[attribute] * diff[attribute]\n",
    "\n",
    "    return score\n"
   ]
  },
  {
   "cell_type": "markdown",
   "id": "8b6bf245-0ea9-443a-a102-903e2cc23cb7",
   "metadata": {},
   "source": [
    "### Transition Score Testing"
   ]
  },
  {
   "cell_type": "code",
   "execution_count": null,
   "id": "6fe8d446-a654-4fd0-95d9-c98d9f5973d0",
   "metadata": {},
   "outputs": [],
   "source": [
    "def print_song_data(song):\n",
    "    print(\"Song Name:\", song[\"track_name\"])\n",
    "    print(\"Danceability:\", song[\"danceability\"])\n",
    "    print(\"Energy:\", song[\"energy\"])\n",
    "    print(\"Key:\", song[\"key\"])\n",
    "    print(\"Loudness:\", song[\"loudness\"])\n",
    "    print(\"Mode:\", song[\"mode\"])\n",
    "    print(\"Valence:\", song[\"valence\"])\n",
    "    print(\"Tempo:\", song[\"tempo\"])\n",
    "    print(\"Genre:\", ', '.join(song[\"genre\"]))\n",
    "    print()\n",
    "\n",
    "def get_related_artist_genres(artist_id):\n",
    "    related_artists = sp.artist_related_artists(artist_id)\n",
    "    genres = []\n",
    "    for artist in related_artists['artists']:\n",
    "        genres.extend(artist['genres'])\n",
    "    return list(set(genres))\n",
    "\n",
    "def get_song_data(track_id):\n",
    "    track = sp.track(track_id)\n",
    "    audio_features = sp.audio_features(track_id)[0]\n",
    "    artist_id = track['artists'][0]['id']\n",
    "    genres = get_related_artist_genres(artist_id)\n",
    "\n",
    "    song_data = audio_features.copy()\n",
    "    song_data['genre'] = genres\n",
    "    song_data['track_name'] = track['name']\n",
    "    return song_data"
   ]
  },
  {
   "cell_type": "markdown",
   "id": "acd852ea-0da8-40af-b97e-b5bef64c7e75",
   "metadata": {},
   "source": [
    "#### Same Song score"
   ]
  },
  {
   "cell_type": "code",
   "execution_count": null,
   "id": "1fb88f3a-757d-4392-ad78-8f272709311e",
   "metadata": {},
   "outputs": [],
   "source": [
    "song1_id = \"0hURIUSiPFIv7dzlejdf3N\"\n",
    "song2_id = \"0hURIUSiPFIv7dzlejdf3N\"\n",
    "\n",
    "song1 = get_song_data(song1_id)\n",
    "song2 = get_song_data(song2_id)\n",
    "\n",
    "print(\"Song 1 Info:\")\n",
    "print_song_data(song1)\n",
    "\n",
    "print(\"Song 2 Info:\")\n",
    "print_song_data(song2)\n",
    "\n",
    "transition_score = evaluate_transition(song1, song2)\n",
    "print(f\"Transition score between the two songs: {transition_score:.2f}\")"
   ]
  },
  {
   "cell_type": "markdown",
   "id": "dfc56c52-d1e0-43b5-908c-bb063418f9a8",
   "metadata": {},
   "source": [
    "#### Good Song score"
   ]
  },
  {
   "cell_type": "code",
   "execution_count": null,
   "id": "97dc502d-ca9d-4132-bc02-5c20eb1604e3",
   "metadata": {},
   "outputs": [],
   "source": [
    "song1_id = \"0yLdNVWF3Srea0uzk55zFn\"\n",
    "song2_id = \"3RfNQMIeuL2QC9l4VxOMoj\"\n",
    "\n",
    "song1 = get_song_data(song1_id)\n",
    "song2 = get_song_data(song2_id)\n",
    "\n",
    "print(\"Song 1 Info:\")\n",
    "print_song_data(song1)\n",
    "\n",
    "print(\"Song 2 Info:\")\n",
    "print_song_data(song2)\n",
    "\n",
    "transition_score = evaluate_transition(song1, song2)\n",
    "print(f\"Transition score between the two songs: {transition_score:.2f}\")"
   ]
  },
  {
   "cell_type": "markdown",
   "id": "954c165a-634b-4b77-83db-aa46fe096e21",
   "metadata": {},
   "source": [
    "#### Medium Song score"
   ]
  },
  {
   "cell_type": "code",
   "execution_count": null,
   "id": "731d3db5-5fcb-4812-8390-f2645a57ba39",
   "metadata": {},
   "outputs": [],
   "source": [
    "song1_id = \"1j6kDJttn6wbVyMaM42Nxm\"\n",
    "song2_id = \"2I9foKseoFQh07p6sD2voE\"\n",
    "\n",
    "song1 = get_song_data(song1_id)\n",
    "song2 = get_song_data(song2_id)\n",
    "\n",
    "print(\"Song 1 Info:\")\n",
    "print_song_data(song1)\n",
    "\n",
    "print(\"Song 2 Info:\")\n",
    "print_song_data(song2)\n",
    "\n",
    "transition_score = evaluate_transition(song1, song2)\n",
    "print(f\"Transition score between the two songs: {transition_score:.2f}\")"
   ]
  },
  {
   "cell_type": "markdown",
   "id": "5ae995d4-64bd-4dd3-8af5-6df293865038",
   "metadata": {},
   "source": [
    "#### Bad Song score"
   ]
  },
  {
   "cell_type": "code",
   "execution_count": null,
   "id": "3454219d-b160-4387-b465-0a31c2faee3a",
   "metadata": {},
   "outputs": [],
   "source": [
    "song1_id = \"1j6kDJttn6wbVyMaM42Nxm\"\n",
    "song2_id = \"0hURIUSiPFIv7dzlejdf3N\"\n",
    "\n",
    "song1 = get_song_data(song1_id)\n",
    "song2 = get_song_data(song2_id)\n",
    "\n",
    "print(\"Song 1 Info:\")\n",
    "print_song_data(song1)\n",
    "\n",
    "print(\"Song 2 Info:\")\n",
    "print_song_data(song2)\n",
    "\n",
    "transition_score = evaluate_transition(song1, song2)\n",
    "print(f\"Transition score between the two songs: {transition_score:.2f}\")"
   ]
  },
  {
   "cell_type": "markdown",
   "id": "515bb034-603d-4bce-97cc-9415c492fcbc",
   "metadata": {},
   "source": [
    "### Beam Search Description\n",
    "\n",
    "\tBeam Search is a heuristic algorithm that explores a graph by expanding only on the most promising of nodes. To summarize prior, a heuristic algorithm is an algorithm that prioritizes a near optimal solution based on a variety of specialized techniques. As a result, heuristic algorithms like Beam Search are greedy and prioritize a locally optimal solution trading accuracy for speed. \n",
    "\n",
    "\tBeam Search is a breadth search algorithm that generates all the current successors. Here is the general outline of our algorithm in terms of musical transitions:\n",
    "\t\t First, we will begin with a a singular node, containing a transition score of 0, current songs (which is empty to begin with), and a list of available songs.\n",
    "\n",
    "\t\tSecond, for each available song, we will evaluate a transition score from the last song of the current playlist to the available song selected. The way we evaluated transition scores for each song is done by scoring musical likeness between songs. We will then remove the available song from the available songs list and add it to the current songs list. We will add this transition score to the total score and store this iteration of current songs, transition score, available songs as a new node in our heap of nodes to be explored.\n",
    "\t\t\n",
    "\t\tOnce all available songs have been visited we will then remove from the heap of newly created nodes with some of the highest transition scores. We will now consider only a constant set of nodes (which are of the lowest scores).\n",
    "\t\t\n",
    "\t\tWe will repeat these steps until all available songs have been considered and a full playlist has been created. We will select the remaining node with the highest transition score, as this node contains the playlist with the heuristically determined optimal solution."
   ]
  },
  {
   "cell_type": "code",
   "execution_count": null,
   "id": "bed6a26c-1b9c-4129-a92f-c68f3b4ba67c",
   "metadata": {},
   "outputs": [],
   "source": [
    "import heapq\n",
    "\n",
    "def beam_search(songs, beam_width=3):\n",
    "    # Initialize the search space with the initial state\n",
    "    search_space = [([], songs, 0)]\n",
    "\n",
    "    while search_space:\n",
    "        # Keep track of the next states with their corresponding costs\n",
    "        next_states = []\n",
    "\n",
    "        for state in search_space:\n",
    "            playlist, remaining_songs, cost = state\n",
    "\n",
    "            # If there are no remaining songs, we have a complete playlist\n",
    "            if not remaining_songs:\n",
    "                return playlist, cost\n",
    "\n",
    "            # Generate possible next states by adding one of the remaining songs\n",
    "            for song in remaining_songs:\n",
    "                if song not in playlist:\n",
    "                    new_remaining_songs = remaining_songs.copy()\n",
    "                    new_remaining_songs.remove(song)\n",
    "                    new_playlist = playlist + [song]\n",
    "\n",
    "                    if len(new_playlist) > 1:\n",
    "                        last_song = get_song_data(playlist[-1])\n",
    "                        current_song = get_song_data(song)\n",
    "                        transition_cost = evaluate_transition(last_song, current_song)\n",
    "                    else:\n",
    "                        transition_cost = 0\n",
    "\n",
    "                    new_cost = cost + transition_cost\n",
    "                    next_states.append((new_playlist, new_remaining_songs, new_cost))\n",
    "\n",
    "        # Keep only the best 'beam_width' states for the next iteration\n",
    "        # You can experiment with beam width lengths.\n",
    "        search_space = heapq.nsmallest(beam_width, next_states, key=lambda x: x[2])\n",
    "\n",
    "    return None, float('inf')\n",
    "\n",
    "# Example usage with a list of song URIs:\n",
    "# song_uris = [\n",
    "#     \"2M2urNXOgop2isPZ9Vv4f7\",\n",
    "#     \"3AntMecs7ThSZLnr2o8r78\",\n",
    "#     # Add more URIs\n",
    "# ]\n",
    "\n"
   ]
  },
  {
   "cell_type": "code",
   "execution_count": null,
   "id": "6d051117-d85e-449a-b8a9-08846482fac6",
   "metadata": {},
   "outputs": [],
   "source": [
    "sample_playlist_link = \"https://open.spotify.com/playlist/0whpp60V3f8y5G1e6HV59N?si=28d21cbd6b7c4137\"\n",
    "sample_uri = sample_playlist_link.split(\"/\")[-1].split(\"?\")[0]\n",
    "sample_playlist = [x[\"track\"][\"uri\"] for x in sp.playlist_tracks(sample_uri)[\"items\"]]\n",
    "\n",
    "optimal_playlist, cost = beam_search(sample_playlist, beam_width=3)\n",
    "print(\"Optimal playlist order:\")\n",
    "for i, song in enumerate(optimal_playlist):\n",
    "    print(f\"{i + 1}. {get_song_data(song)['track_name']}\")\n",
    "\n",
    "print(f\"\\nTransition cost: {cost:.2f}\")"
   ]
  },
  {
   "cell_type": "code",
   "execution_count": null,
   "id": "23687785-e466-492f-b409-1a84019318fe",
   "metadata": {},
   "outputs": [],
   "source": [
    "# print(transition_cost(\"2I9foKseoFQh07p6sD2voE\", \"4E5IFAXCob6QqZaJMTw5YN\"))\n",
    "\n",
    "song1_id = \"2I9foKseoFQh07p6sD2voE\"\n",
    "song2_id = \"4E5IFAXCob6QqZaJMTw5YN\"\n",
    "\n",
    "song1 = get_song_data(song1_id)\n",
    "song2 = get_song_data(song2_id)\n",
    "\n",
    "print(\"Song 1 Info:\")\n",
    "print_song_data(song1)\n",
    "\n",
    "print(\"Song 2 Info:\")\n",
    "print_song_data(song2)\n",
    "\n",
    "print(evaluate_transition(get_song_data(\"2I9foKseoFQh07p6sD2voE\"), get_song_data(\"4E5IFAXCob6QqZaJMTw5YN\")))\n"
   ]
  },
  {
   "cell_type": "code",
   "execution_count": null,
   "id": "99b2d06e-bc98-4dfa-ada4-3966e69845fc",
   "metadata": {},
   "outputs": [],
   "source": [
    "\n",
    "song1_id = \"2I9foKseoFQh07p6sD2voE\"\n",
    "song2_id = \"4E5IFAXCob6QqZaJMTw5YN\"\n",
    "\n",
    "song1 = get_song_data(song1_id)\n",
    "song2 = get_song_data(song2_id)\n",
    "\n",
    "print(\"Song 1 Info:\")\n",
    "print_song_data(song1)\n",
    "\n",
    "print(\"Song 2 Info:\")\n",
    "print_song_data(song2)\n",
    "\n",
    "print(evaluate_transition(get_song_data(\"2I9foKseoFQh07p6sD2voE\"), get_song_data(\"5Tbpp3OLLClPJF8t1DmrFD\")))"
   ]
  },
  {
   "cell_type": "markdown",
   "id": "0dab09d9",
   "metadata": {},
   "source": [
    "## Implementing Beam Search"
   ]
  },
  {
   "cell_type": "code",
   "execution_count": null,
   "id": "b67f8230",
   "metadata": {},
   "outputs": [],
   "source": [
    "# # Loop through the tracks and print the track name and its artist's genres\n",
    "# for item in sp.playlist_tracks(uri)[\"items\"]:\n",
    "#     track = item[\"track\"]\n",
    "#     track_name = track[\"name\"]\n",
    "#     artist_id = track[\"artists\"][0][\"id\"]\n",
    "\n",
    "#     # Get the artist's genres\n",
    "#     artist = sp.artist(artist_id)\n",
    "#     genres = artist[\"genres\"]\n",
    "\n",
    "#     print(f\"Track: {track_name}\\nArtist's Genres: {', '.join(genres)}\\n\")\n",
    "\n",
    "\n"
   ]
  },
  {
   "cell_type": "code",
   "execution_count": null,
   "id": "a152f8b5",
   "metadata": {},
   "outputs": [],
   "source": []
  },
  {
   "cell_type": "markdown",
   "id": "e7564df0",
   "metadata": {},
   "source": [
    "## Reordering the Spotify playlist\n",
    "\n",
    "We will add the new index of each song to the dataframe"
   ]
  },
  {
   "cell_type": "code",
   "execution_count": null,
   "id": "2fbb60ac",
   "metadata": {
    "scrolled": true
   },
   "outputs": [],
   "source": [
    "df['new_index'] = pd.Series(None, index=df.index)\n",
    "df"
   ]
  },
  {
   "cell_type": "code",
   "execution_count": null,
   "id": "2d114fad",
   "metadata": {},
   "outputs": [],
   "source": [
    "# testing by reversing the index\n",
    "df['new_index'] = df.index[::-1]\n",
    "df"
   ]
  },
  {
   "cell_type": "code",
   "execution_count": null,
   "id": "b8311c7c",
   "metadata": {},
   "outputs": [],
   "source": [
    "def reorder_playlist(playlist_id, original_index, new_index):\n",
    "    # Get the current tracks in the playlist\n",
    "    current_tracks = sp.playlist_tracks(playlist_id)['items']\n",
    "    current_uris = [track['track']['uri'] for track in current_tracks]\n",
    "    \n",
    "    # Rearrange the tracks according to the new index\n",
    "    new_uris = [current_uris[idx] for idx in new_index]\n",
    "    \n",
    "    # Replace the tracks in the playlist with the new order\n",
    "    sp.playlist_replace_items(playlist_id, new_uris)\n",
    "    \n",
    "    # Update the DataFrame with the new indices\n",
    "    new_order = [i for i in range(len(original_index))]\n",
    "    df = original_index.to_frame()\n",
    "    df['new_index'] = new_order"
   ]
  },
  {
   "cell_type": "code",
   "execution_count": null,
   "id": "db66e46c",
   "metadata": {},
   "outputs": [],
   "source": [
    "reorder_playlist(uri, df.index, df['new_index'])"
   ]
  },
  {
   "cell_type": "code",
   "execution_count": null,
   "id": "7f93bdd1",
   "metadata": {
    "scrolled": true
   },
   "outputs": [],
   "source": [
    "# Initialize empty lists for columns\n",
    "song_names = []\n",
    "danceability = []\n",
    "energy = []\n",
    "key = []\n",
    "loudness = []\n",
    "mode = []\n",
    "speechiness = []\n",
    "acousticness = []\n",
    "instrumentalness = []\n",
    "liveness = []\n",
    "valence = []\n",
    "tempo = []\n",
    "\n",
    "# Loop through the tracks and append the data to the respective lists\n",
    "for track in sp.playlist_tracks(uri)[\"items\"]:\n",
    "    track_name = track[\"track\"][\"name\"]\n",
    "    song_names.append(track_name)\n",
    "    \n",
    "    audio_features = sp.audio_features(track[\"track\"][\"uri\"])[0]\n",
    "    danceability.append(audio_features[\"danceability\"])\n",
    "    energy.append(audio_features[\"energy\"])\n",
    "    key.append(audio_features[\"key\"])\n",
    "    loudness.append(audio_features[\"loudness\"])\n",
    "    mode.append(audio_features[\"mode\"])\n",
    "    speechiness.append(audio_features[\"speechiness\"])\n",
    "    acousticness.append(audio_features[\"acousticness\"])\n",
    "    instrumentalness.append(audio_features[\"instrumentalness\"])\n",
    "    liveness.append(audio_features[\"liveness\"])\n",
    "    valence.append(audio_features[\"valence\"])\n",
    "    tempo.append(audio_features[\"tempo\"])\n",
    "\n",
    "# Create a DataFrame\n",
    "data = {\n",
    "    \"Song Name\": song_names,\n",
    "    \"Danceability\": danceability,\n",
    "    \"Energy\": energy,\n",
    "    \"Key\": key,\n",
    "    \"Loudness\": loudness,\n",
    "    \"Mode\": mode,\n",
    "    \"Speechiness\": speechiness,\n",
    "    \"Acousticness\": acousticness,\n",
    "    \"Instrumentalness\": instrumentalness,\n",
    "    \"Liveness\": liveness,\n",
    "    \"Valence\": valence,\n",
    "    \"Tempo\": tempo\n",
    "}\n",
    "\n",
    "df = pd.DataFrame(data)\n",
    "df"
   ]
  },
  {
   "cell_type": "code",
   "execution_count": null,
   "id": "2c42b91e-e209-40c4-b201-ba5a29ab0d59",
   "metadata": {},
   "outputs": [],
   "source": [
    "import os\n",
    "import spotipy\n",
    "from spotipy.oauth2 import SpotifyOAuth\n",
    "\n",
    "def authenticate_user(cid, secret, redirect_uri, scope):\n",
    "    sp_oauth = SpotifyOAuth(client_id=cid, client_secret=secret, redirect_uri=redirect_uri, scope=scope)\n",
    "    token_info = sp_oauth.get_cached_token()\n",
    "\n",
    "    if not token_info:\n",
    "        auth_url = sp_oauth.get_authorize_url()\n",
    "        print(f'Please navigate here and authorize access: {auth_url}')\n",
    "        response = input('Enter the URL you were redirected to: ')\n",
    "        code = sp_oauth.parse_response_code(response)\n",
    "        token_info = sp_oauth.get_access_token(code)\n",
    "\n",
    "    return spotipy.Spotify(auth=token_info['access_token'])\n",
    "\n",
    "def reorder_playlist(sp, playlist_link):\n",
    "    user_id = sp.current_user()['id']\n",
    "    playlist_id = playlist_link.split('/')[-1].split(':')[-1]\n",
    "\n",
    "    # Fetch playlist details and tracks\n",
    "    playlist = sp.playlist(playlist_id)\n",
    "    tracks = playlist['tracks']['items']\n",
    "\n",
    "    # Reorder the tracks (example: reverse the order)\n",
    "    reordered_tracks = list(reversed(tracks))\n",
    "\n",
    "    # Create a new playlist\n",
    "    new_playlist = sp.user_playlist_create(user_id, f'Reordered: {playlist[\"name\"]}')\n",
    "\n",
    "    # Add the reordered tracks to the new playlist\n",
    "    track_uris = [track['track']['uri'] for track in reordered_tracks]\n",
    "    sp.playlist_add_items(new_playlist['id'], track_uris)\n",
    "\n",
    "    return new_playlist['external_urls']['spotify']\n",
    "\n",
    "if __name__ == '__main__':\n",
    "    sp = authenticate_user(cid, secret, redirect_uri, scope)\n",
    "    playlist_link = input('Enter the playlist link: ')\n",
    "    new_playlist_link = reorder_playlist(sp, playlist_link)\n",
    "    print(f'New reordered playlist created: {new_playlist_link}')\n"
   ]
  },
  {
   "cell_type": "markdown",
   "id": "5784fdc3-b4d4-460f-85c7-9e1fa8d794ae",
   "metadata": {},
   "source": [
    "# Conclusion"
   ]
  },
  {
   "cell_type": "markdown",
   "id": "402ca1f5-1911-4a8a-a548-ec29f93c6547",
   "metadata": {},
   "source": [
    "### Analysis"
   ]
  },
  {
   "cell_type": "markdown",
   "id": "77756ba9-cc38-4be6-b32e-e82614be99cc",
   "metadata": {},
   "source": [
    "    During the course of this project, we aimed to find an optimal sorting mechanism for reordering the Spotify playlist tracks. To achieve this goal, we developed an evaluation score function, which we tweaked iteratively using a combination of tests, intuition, and analysis. The following is an analysis of the process we went through to arrive at our final evaluation score function:\n",
    "\n",
    "    Initial function: We started with a basic evaluation score function that considered a few track features. However, we quickly realized that this initial function did not produce satisfactory results in terms of reordering the playlist tracks.\n",
    "\n",
    "    Feature analysis: To improve our evaluation score function, we first analyzed the available track features in the dataset. We focused on those features that could have a significant impact on the listening experience, such as tempo, danceability, energy, and valence.\n",
    "\n",
    "    Feature selection: Based on our analysis, we selected a set of track features that we believed would contribute to a better listening experience. We then experimented with different combinations of these features to understand their relative importance in the evaluation score function.\n",
    "\n",
    "    Tweaking weights: Once we had chosen the relevant features, we assigned weights to them in our evaluation score function. We tweaked these weights iteratively, running tests on different playlists to see how they affected the resulting track order. We adjusted the weights based on the test results and our intuition about the importance of each feature in the listening experience.\n",
    "\n",
    "    Testing: To ensure the effectiveness of our evaluation score function, we ran multiple tests using different playlists with diverse characteristics. We compared the original track order to the reordered tracklist generated by our function, looking for improvements in the listening experience.\n",
    "\n",
    "    Intuition and feedback: Throughout the process, we also relied on our intuition and gathered feedback from users to understand how the reordered playlists aligned with their preferences. This information helped us further refine the weights and the overall evaluation score function.\n",
    "\n",
    "    Final function: After numerous iterations, tests, and refinements, we arrived at an optimal evaluation score function that produced satisfactory results in terms of reordering the playlist tracks. This function was able to effectively balance the selected features, creating a more enjoyable listening experience for the users.\n",
    "\n",
    "    In conclusion, our iterative approach, involving feature analysis, feature selection, tweaking of weights, testing, and the incorporation of intuition and user feedback, helped us develop an optimal evaluation score function for reordering Spotify playlists. This function is capable of enhancing the listening experience and can be further refined or expanded upon as needed."
   ]
  },
  {
   "cell_type": "markdown",
   "id": "2e299323-67ab-4c5d-95e9-e3e906fe3905",
   "metadata": {},
   "source": [
    "### Next Steps"
   ]
  },
  {
   "cell_type": "markdown",
   "id": "242bc88c-76e1-4899-855c-ba97386bb768",
   "metadata": {},
   "source": [
    "    Ponential next steps could be:\n",
    "\n",
    "    Implement additional sorting methods to allow users to experiment with different listening experiences. Some examples include sorting by tempo, danceability, valence (mood), or track length.\n",
    "\n",
    "    Analyze the playlists of multiple users to understand the common characteristics and trends in playlist creation, which could lead to insights into user behavior and preferences using a deep learning algorithm and or reinforcement learning.\n",
    "\n",
    "    Create a user-friendly interface (e.g., a web or desktop application) that allows users to interact with the project easily, reorder their playlists, and visualize the results.\n",
    "\n",
    "    Consider using machine learning techniques to create personalized playlist recommendations based on the user's listening history and preferences.\n",
    "\n",
    "    Experiment with creating playlists that cater to specific moods, activities, or situations (e.g., workout playlists, relaxation playlists, or party playlists) by analyzing the audio features of the tracks and generating playlists that meet the desired criteria."
   ]
  },
  {
   "cell_type": "code",
   "execution_count": null,
   "id": "0104a0f2",
   "metadata": {},
   "outputs": [],
   "source": []
  }
 ],
 "metadata": {
  "kernelspec": {
   "display_name": "Python 3 (ipykernel)",
   "language": "python",
   "name": "python3"
  },
  "language_info": {
   "codemirror_mode": {
    "name": "ipython",
    "version": 3
   },
   "file_extension": ".py",
   "mimetype": "text/x-python",
   "name": "python",
   "nbconvert_exporter": "python",
   "pygments_lexer": "ipython3",
   "version": "3.9.9"
  }
 },
 "nbformat": 4,
 "nbformat_minor": 5
}
